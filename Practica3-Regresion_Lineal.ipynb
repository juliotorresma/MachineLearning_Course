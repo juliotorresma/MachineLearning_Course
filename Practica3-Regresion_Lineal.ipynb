{
  "nbformat": 4,
  "nbformat_minor": 0,
  "metadata": {
    "colab": {
      "name": "Regresion-Lineal.ipynb",
      "provenance": [],
      "mount_file_id": "1ezevWH8UDbueh8LLdr4lWnBWtgmgczta",
      "authorship_tag": "ABX9TyOdunOWtMAQYrFPY2G+kK9v",
      "include_colab_link": true
    },
    "kernelspec": {
      "name": "python3",
      "display_name": "Python 3"
    },
    "language_info": {
      "name": "python"
    }
  },
  "cells": [
    {
      "cell_type": "markdown",
      "metadata": {
        "id": "view-in-github",
        "colab_type": "text"
      },
      "source": [
        "<a href=\"https://colab.research.google.com/github/juliotorresma/MachineLearning_Course/blob/main/Practica3-Regresion_Lineal.ipynb\" target=\"_parent\"><img src=\"https://colab.research.google.com/assets/colab-badge.svg\" alt=\"Open In Colab\"/></a>"
      ]
    },
    {
      "cell_type": "markdown",
      "metadata": {
        "id": "epQhYOlYy3yg"
      },
      "source": [
        "# **Aqui cremos conjunto de datos lineales**"
      ]
    },
    {
      "cell_type": "code",
      "metadata": {
        "colab": {
          "base_uri": "https://localhost:8080/",
          "height": 266
        },
        "id": "oZSHQtoSn9CS",
        "outputId": "f35801d6-c768-41bb-c7eb-4b2133de5131"
      },
      "source": [
        "import numpy as np\n",
        "import matplotlib.pyplot as plt\n",
        "\n",
        "horas = np.arange(1,12,.25) \n",
        "\n",
        "calificaciones = (9 * horas) + np.random.normal(loc=0,scale=10,size=len(horas))\n",
        "#y = calificaciones\n",
        "#x = horas\n",
        "\n",
        "# y = (9x) + 10\n",
        "\n",
        "#np.random.normal : Me regresa un numero randon mas probablemente dentro de un rango\n",
        "#indicado.\n",
        "\n",
        "\n",
        "#Crear espacio de proyeccion\n",
        "plt.figure()\n",
        "#Cargamos datos en \"x\" y en \"y\"\n",
        "plt.scatter(horas,calificaciones)\n",
        "#Mostramos\n",
        "plt.show()\n",
        "\n",
        "#Correlacion -1<r<1"
      ],
      "execution_count": 78,
      "outputs": [
        {
          "output_type": "display_data",
          "data": {
            "image/png": "[encoded data removed]",
            "text/plain": [
              "<Figure size 432x288 with 1 Axes>"
            ]
          },
          "metadata": {
            "needs_background": "light"
          }
        }
      ]
    },
    {
      "cell_type": "code",
      "metadata": {
        "colab": {
          "base_uri": "https://localhost:8080/"
        },
        "id": "thA21MV6z_8m",
        "outputId": "d987d38e-5702-4937-b027-46da55d6fd81"
      },
      "source": [
        "print(calificaciones.shape)#imprimimos las dimensiones\n",
        "print(horas.shape)\n",
        "print(horas)"
      ],
      "execution_count": 79,
      "outputs": [
        {
          "output_type": "stream",
          "name": "stdout",
          "text": [
            "(44,)\n",
            "(44,)\n",
            "[ 1.    1.25  1.5   1.75  2.    2.25  2.5   2.75  3.    3.25  3.5   3.75\n",
            "  4.    4.25  4.5   4.75  5.    5.25  5.5   5.75  6.    6.25  6.5   6.75\n",
            "  7.    7.25  7.5   7.75  8.    8.25  8.5   8.75  9.    9.25  9.5   9.75\n",
            " 10.   10.25 10.5  10.75 11.   11.25 11.5  11.75]\n"
          ]
        }
      ]
    },
    {
      "cell_type": "code",
      "metadata": {
        "id": "km2m7iiTpkJz",
        "colab": {
          "base_uri": "https://localhost:8080/"
        },
        "outputId": "513c77a7-33f3-4d7d-e2e1-9547880196bf"
      },
      "source": [
        "from sklearn.linear_model import LinearRegression\n",
        "\n",
        "model = LinearRegression()\n",
        "#               lista a mod       nueva dimension\n",
        "horas = np.reshape(horas,      ( len(horas) , 1  ))\n",
        "\n",
        "print(horas)\n",
        "\n",
        "model.fit(horas,calificaciones)\n"
      ],
      "execution_count": 80,
      "outputs": [
        {
          "output_type": "stream",
          "name": "stdout",
          "text": [
            "[[ 1.  ]\n",
            " [ 1.25]\n",
            " [ 1.5 ]\n",
            " [ 1.75]\n",
            " [ 2.  ]\n",
            " [ 2.25]\n",
            " [ 2.5 ]\n",
            " [ 2.75]\n",
            " [ 3.  ]\n",
            " [ 3.25]\n",
            " [ 3.5 ]\n",
            " [ 3.75]\n",
            " [ 4.  ]\n",
            " [ 4.25]\n",
            " [ 4.5 ]\n",
            " [ 4.75]\n",
            " [ 5.  ]\n",
            " [ 5.25]\n",
            " [ 5.5 ]\n",
            " [ 5.75]\n",
            " [ 6.  ]\n",
            " [ 6.25]\n",
            " [ 6.5 ]\n",
            " [ 6.75]\n",
            " [ 7.  ]\n",
            " [ 7.25]\n",
            " [ 7.5 ]\n",
            " [ 7.75]\n",
            " [ 8.  ]\n",
            " [ 8.25]\n",
            " [ 8.5 ]\n",
            " [ 8.75]\n",
            " [ 9.  ]\n",
            " [ 9.25]\n",
            " [ 9.5 ]\n",
            " [ 9.75]\n",
            " [10.  ]\n",
            " [10.25]\n",
            " [10.5 ]\n",
            " [10.75]\n",
            " [11.  ]\n",
            " [11.25]\n",
            " [11.5 ]\n",
            " [11.75]]\n"
          ]
        },
        {
          "output_type": "execute_result",
          "data": {
            "text/plain": [
              "LinearRegression(copy_X=True, fit_intercept=True, n_jobs=None, normalize=False)"
            ]
          },
          "metadata": {},
          "execution_count": 80
        }
      ]
    },
    {
      "cell_type": "code",
      "metadata": {
        "colab": {
          "base_uri": "https://localhost:8080/"
        },
        "id": "EYB-xe-M1Xfs",
        "outputId": "810c2e2c-0efd-4939-a6a6-7516cb869bc7"
      },
      "source": [
        "print(model.coef_)\n",
        "print(model.intercept_)"
      ],
      "execution_count": 81,
      "outputs": [
        {
          "output_type": "stream",
          "name": "stdout",
          "text": [
            "[8.75029763]\n",
            "-0.5311435802023894\n"
          ]
        }
      ]
    },
    {
      "cell_type": "code",
      "metadata": {
        "colab": {
          "base_uri": "https://localhost:8080/",
          "height": 266
        },
        "id": "qkoXKM5F16dv",
        "outputId": "1d5cb7f5-c4cb-4ee7-970f-79123a4fe255"
      },
      "source": [
        "m = model.coef_\n",
        "b = model.intercept_\n",
        "\n",
        "\n",
        "#Crear espacio de proyeccion\n",
        "plt.figure()\n",
        "#Cargamos datos en \"x\" y en \"y\"\n",
        "plt.scatter(horas,calificaciones)\n",
        "plt.plot([0,12],[(0*m)+b,(12*m)+b],color='red')\n",
        "#         x1.x2    y1,     y2\n",
        "#Mostramos\n",
        "plt.show()\n"
      ],
      "execution_count": 82,
      "outputs": [
        {
          "output_type": "display_data",
          "data": {
            "image/png": "[encoded data removed]",
            "text/plain": [
              "<Figure size 432x288 with 1 Axes>"
            ]
          },
          "metadata": {
            "needs_background": "light"
          }
        }
      ]
    },
    {
      "cell_type": "code",
      "metadata": {
        "colab": {
          "base_uri": "https://localhost:8080/"
        },
        "id": "doRgpKVt5FY2",
        "outputId": "cfe9dbef-ef72-4ac1-9af6-0cc978690d7a"
      },
      "source": [
        "calificacion_prueba = [7]\n",
        "calificacion_prueba = np.reshape(calificacion_prueba,( len(calificacion_prueba) , 1  ))\n",
        "model.predict(calificacion_prueba)\n"
      ],
      "execution_count": 83,
      "outputs": [
        {
          "output_type": "execute_result",
          "data": {
            "text/plain": [
              "array([60.72093985])"
            ]
          },
          "metadata": {},
          "execution_count": 83
        }
      ]
    },
    {
      "cell_type": "code",
      "metadata": {
        "colab": {
          "base_uri": "https://localhost:8080/"
        },
        "id": "ettJk7-T5uNZ",
        "outputId": "fb3b1e3a-3bcc-4921-9c9b-aa3e830455d2"
      },
      "source": [
        "print((7*m)+b)"
      ],
      "execution_count": 84,
      "outputs": [
        {
          "output_type": "stream",
          "name": "stdout",
          "text": [
            "[60.72093985]\n"
          ]
        }
      ]
    },
    {
      "cell_type": "markdown",
      "metadata": {
        "id": "vzkY3v9Ky__F"
      },
      "source": [
        "# **Creacion de dataset NO lineal**"
      ]
    },
    {
      "cell_type": "code",
      "metadata": {
        "colab": {
          "base_uri": "https://localhost:8080/",
          "height": 467
        },
        "id": "SnzKXGmjzEXp",
        "outputId": "1213bc8e-abff-4583-f988-a32d2e881a5a"
      },
      "source": [
        "x = np.arange(-12,12,.25) \n",
        "#                                     \n",
        "y = (9 * (x**2)) + np.random.normal(loc=0,scale=100,size=len(x))\n",
        "#y = 9x +10\n",
        "#y = b1x^2 + b2x + 10\n",
        "\n",
        "#np.random.normal : Me regresa un numero randon mas probablemente dentro de un rango\n",
        "#indicado.\n",
        "\n",
        "#Crear espacio de proyeccion\n",
        "plt.figure()\n",
        "#Cargamos datos en \"x\" y en \"y\"\n",
        "plt.scatter(x,y)\n",
        "#Mostramos\n",
        "plt.show()\n",
        "\n",
        "#Correlacion -1<r<1\n",
        "x"
      ],
      "execution_count": 85,
      "outputs": [
        {
          "output_type": "display_data",
          "data": {
            "image/png": "[encoded data removed]",
            "text/plain": [
              "<Figure size 432x288 with 1 Axes>"
            ]
          },
          "metadata": {
            "needs_background": "light"
          }
        },
        {
          "output_type": "execute_result",
          "data": {
            "text/plain": [
              "array([-12.  , -11.75, -11.5 , -11.25, -11.  , -10.75, -10.5 , -10.25,\n",
              "       -10.  ,  -9.75,  -9.5 ,  -9.25,  -9.  ,  -8.75,  -8.5 ,  -8.25,\n",
              "        -8.  ,  -7.75,  -7.5 ,  -7.25,  -7.  ,  -6.75,  -6.5 ,  -6.25,\n",
              "        -6.  ,  -5.75,  -5.5 ,  -5.25,  -5.  ,  -4.75,  -4.5 ,  -4.25,\n",
              "        -4.  ,  -3.75,  -3.5 ,  -3.25,  -3.  ,  -2.75,  -2.5 ,  -2.25,\n",
              "        -2.  ,  -1.75,  -1.5 ,  -1.25,  -1.  ,  -0.75,  -0.5 ,  -0.25,\n",
              "         0.  ,   0.25,   0.5 ,   0.75,   1.  ,   1.25,   1.5 ,   1.75,\n",
              "         2.  ,   2.25,   2.5 ,   2.75,   3.  ,   3.25,   3.5 ,   3.75,\n",
              "         4.  ,   4.25,   4.5 ,   4.75,   5.  ,   5.25,   5.5 ,   5.75,\n",
              "         6.  ,   6.25,   6.5 ,   6.75,   7.  ,   7.25,   7.5 ,   7.75,\n",
              "         8.  ,   8.25,   8.5 ,   8.75,   9.  ,   9.25,   9.5 ,   9.75,\n",
              "        10.  ,  10.25,  10.5 ,  10.75,  11.  ,  11.25,  11.5 ,  11.75])"
            ]
          },
          "metadata": {},
          "execution_count": 85
        }
      ]
    },
    {
      "cell_type": "markdown",
      "metadata": {
        "id": "BfJvQOIM1L--"
      },
      "source": [
        "# **Moficiacion de datos**"
      ]
    },
    {
      "cell_type": "code",
      "metadata": {
        "colab": {
          "base_uri": "https://localhost:8080/"
        },
        "id": "bIqa7dnt1PbF",
        "outputId": "4f15635a-2f2b-46ca-ad26-4bab0ba63063"
      },
      "source": [
        "#           lista a mod\n",
        "X = np.reshape(   x,  (len(x),1) ) \n",
        "print(x.shape)"
      ],
      "execution_count": 86,
      "outputs": [
        {
          "output_type": "stream",
          "name": "stdout",
          "text": [
            "(96,)\n"
          ]
        }
      ]
    },
    {
      "cell_type": "code",
      "metadata": {
        "id": "AI1ngclB3aDA"
      },
      "source": [
        "XX = np.concatenate( (X,X**2) , axis=1)\n"
      ],
      "execution_count": 87,
      "outputs": []
    },
    {
      "cell_type": "code",
      "metadata": {
        "colab": {
          "base_uri": "https://localhost:8080/"
        },
        "id": "HmZbEr364kEB",
        "outputId": "f993a4da-148f-4768-ca4a-89847f3ca321"
      },
      "source": [
        "model.fit(XX,y)"
      ],
      "execution_count": 88,
      "outputs": [
        {
          "output_type": "execute_result",
          "data": {
            "text/plain": [
              "LinearRegression(copy_X=True, fit_intercept=True, n_jobs=None, normalize=False)"
            ]
          },
          "metadata": {},
          "execution_count": 88
        }
      ]
    },
    {
      "cell_type": "code",
      "metadata": {
        "colab": {
          "base_uri": "https://localhost:8080/"
        },
        "id": "dnHKpba74m74",
        "outputId": "37c0d626-4726-4514-f22d-aaa7d0b1d485"
      },
      "source": [
        "print(model.coef_)\n",
        "print(model.intercept_)"
      ],
      "execution_count": 89,
      "outputs": [
        {
          "output_type": "stream",
          "name": "stdout",
          "text": [
            "[-0.99404964  8.70309919]\n",
            "26.4594594679765\n"
          ]
        }
      ]
    },
    {
      "cell_type": "code",
      "metadata": {
        "colab": {
          "base_uri": "https://localhost:8080/",
          "height": 269
        },
        "id": "YvdCJCV77kU3",
        "outputId": "a8d7d865-8e59-4d7d-834f-7f5d5cb692dc"
      },
      "source": [
        "b1 = model.coef_[0]\n",
        "b2 = model.coef_[1]\n",
        "b0 = model.intercept_\n",
        "\n",
        "plt.figure()\n",
        "plt.scatter(x,y)\n",
        "#.        X     ( y = b2x^2 + b1x + b0) \n",
        "plt.plot( x    , (   (b2*x**2)+(b1*x)+b0),'*',color='red' )\n",
        "plt.show()"
      ],
      "execution_count": 90,
      "outputs": [
        {
          "output_type": "display_data",
          "data": {
            "image/png": "[encoded data removed]",
            "text/plain": [
              "<Figure size 432x288 with 1 Axes>"
            ]
          },
          "metadata": {
            "needs_background": "light"
          }
        }
      ]
    },
    {
      "cell_type": "code",
      "metadata": {
        "colab": {
          "base_uri": "https://localhost:8080/",
          "height": 413
        },
        "id": "yPV4HyKC7twz",
        "outputId": "d69c587d-e736-4da5-9844-f1c7f1410c61"
      },
      "source": [
        "import pandas\n",
        "\n",
        "df = pandas.read_csv(\"/content/drive/MyDrive/Dataset Curso Machine Learning/winequality-red.csv\",sep=\";\")\n",
        "df"
      ],
      "execution_count": 91,
      "outputs": [
        {
          "output_type": "execute_result",
          "data": {
            "text/html": [
              "<div>\n",
              "<style scoped>\n",
              "    .dataframe tbody tr th:only-of-type {\n",
              "        vertical-align: middle;\n",
              "    }\n",
              "\n",
              "    .dataframe tbody tr th {\n",
              "        vertical-align: top;\n",
              "    }\n",
              "\n",
              "    .dataframe thead th {\n",
              "        text-align: right;\n",
              "    }\n",
              "</style>\n",
              "<table border=\"1\" class=\"dataframe\">\n",
              "  <thead>\n",
              "    <tr style=\"text-align: right;\">\n",
              "      <th></th>\n",
              "      <th>fixed acidity</th>\n",
              "      <th>volatile acidity</th>\n",
              "      <th>citric acid</th>\n",
              "      <th>residual sugar</th>\n",
              "      <th>chlorides</th>\n",
              "      <th>free sulfur dioxide</th>\n",
              "      <th>total sulfur dioxide</th>\n",
              "      <th>density</th>\n",
              "      <th>pH</th>\n",
              "      <th>sulphates</th>\n",
              "      <th>alcohol</th>\n",
              "      <th>quality</th>\n",
              "    </tr>\n",
              "  </thead>\n",
              "  <tbody>\n",
              "    <tr>\n",
              "      <th>0</th>\n",
              "      <td>7.4</td>\n",
              "      <td>0.700</td>\n",
              "      <td>0.00</td>\n",
              "      <td>1.9</td>\n",
              "      <td>0.076</td>\n",
              "      <td>11.0</td>\n",
              "      <td>34.0</td>\n",
              "      <td>0.99780</td>\n",
              "      <td>3.51</td>\n",
              "      <td>0.56</td>\n",
              "      <td>9.4</td>\n",
              "      <td>5</td>\n",
              "    </tr>\n",
              "    <tr>\n",
              "      <th>1</th>\n",
              "      <td>7.8</td>\n",
              "      <td>0.880</td>\n",
              "      <td>0.00</td>\n",
              "      <td>2.6</td>\n",
              "      <td>0.098</td>\n",
              "      <td>25.0</td>\n",
              "      <td>67.0</td>\n",
              "      <td>0.99680</td>\n",
              "      <td>3.20</td>\n",
              "      <td>0.68</td>\n",
              "      <td>9.8</td>\n",
              "      <td>5</td>\n",
              "    </tr>\n",
              "    <tr>\n",
              "      <th>2</th>\n",
              "      <td>7.8</td>\n",
              "      <td>0.760</td>\n",
              "      <td>0.04</td>\n",
              "      <td>2.3</td>\n",
              "      <td>0.092</td>\n",
              "      <td>15.0</td>\n",
              "      <td>54.0</td>\n",
              "      <td>0.99700</td>\n",
              "      <td>3.26</td>\n",
              "      <td>0.65</td>\n",
              "      <td>9.8</td>\n",
              "      <td>5</td>\n",
              "    </tr>\n",
              "    <tr>\n",
              "      <th>3</th>\n",
              "      <td>11.2</td>\n",
              "      <td>0.280</td>\n",
              "      <td>0.56</td>\n",
              "      <td>1.9</td>\n",
              "      <td>0.075</td>\n",
              "      <td>17.0</td>\n",
              "      <td>60.0</td>\n",
              "      <td>0.99800</td>\n",
              "      <td>3.16</td>\n",
              "      <td>0.58</td>\n",
              "      <td>9.8</td>\n",
              "      <td>6</td>\n",
              "    </tr>\n",
              "    <tr>\n",
              "      <th>4</th>\n",
              "      <td>7.4</td>\n",
              "      <td>0.700</td>\n",
              "      <td>0.00</td>\n",
              "      <td>1.9</td>\n",
              "      <td>0.076</td>\n",
              "      <td>11.0</td>\n",
              "      <td>34.0</td>\n",
              "      <td>0.99780</td>\n",
              "      <td>3.51</td>\n",
              "      <td>0.56</td>\n",
              "      <td>9.4</td>\n",
              "      <td>5</td>\n",
              "    </tr>\n",
              "    <tr>\n",
              "      <th>...</th>\n",
              "      <td>...</td>\n",
              "      <td>...</td>\n",
              "      <td>...</td>\n",
              "      <td>...</td>\n",
              "      <td>...</td>\n",
              "      <td>...</td>\n",
              "      <td>...</td>\n",
              "      <td>...</td>\n",
              "      <td>...</td>\n",
              "      <td>...</td>\n",
              "      <td>...</td>\n",
              "      <td>...</td>\n",
              "    </tr>\n",
              "    <tr>\n",
              "      <th>1594</th>\n",
              "      <td>6.2</td>\n",
              "      <td>0.600</td>\n",
              "      <td>0.08</td>\n",
              "      <td>2.0</td>\n",
              "      <td>0.090</td>\n",
              "      <td>32.0</td>\n",
              "      <td>44.0</td>\n",
              "      <td>0.99490</td>\n",
              "      <td>3.45</td>\n",
              "      <td>0.58</td>\n",
              "      <td>10.5</td>\n",
              "      <td>5</td>\n",
              "    </tr>\n",
              "    <tr>\n",
              "      <th>1595</th>\n",
              "      <td>5.9</td>\n",
              "      <td>0.550</td>\n",
              "      <td>0.10</td>\n",
              "      <td>2.2</td>\n",
              "      <td>0.062</td>\n",
              "      <td>39.0</td>\n",
              "      <td>51.0</td>\n",
              "      <td>0.99512</td>\n",
              "      <td>3.52</td>\n",
              "      <td>0.76</td>\n",
              "      <td>11.2</td>\n",
              "      <td>6</td>\n",
              "    </tr>\n",
              "    <tr>\n",
              "      <th>1596</th>\n",
              "      <td>6.3</td>\n",
              "      <td>0.510</td>\n",
              "      <td>0.13</td>\n",
              "      <td>2.3</td>\n",
              "      <td>0.076</td>\n",
              "      <td>29.0</td>\n",
              "      <td>40.0</td>\n",
              "      <td>0.99574</td>\n",
              "      <td>3.42</td>\n",
              "      <td>0.75</td>\n",
              "      <td>11.0</td>\n",
              "      <td>6</td>\n",
              "    </tr>\n",
              "    <tr>\n",
              "      <th>1597</th>\n",
              "      <td>5.9</td>\n",
              "      <td>0.645</td>\n",
              "      <td>0.12</td>\n",
              "      <td>2.0</td>\n",
              "      <td>0.075</td>\n",
              "      <td>32.0</td>\n",
              "      <td>44.0</td>\n",
              "      <td>0.99547</td>\n",
              "      <td>3.57</td>\n",
              "      <td>0.71</td>\n",
              "      <td>10.2</td>\n",
              "      <td>5</td>\n",
              "    </tr>\n",
              "    <tr>\n",
              "      <th>1598</th>\n",
              "      <td>6.0</td>\n",
              "      <td>0.310</td>\n",
              "      <td>0.47</td>\n",
              "      <td>3.6</td>\n",
              "      <td>0.067</td>\n",
              "      <td>18.0</td>\n",
              "      <td>42.0</td>\n",
              "      <td>0.99549</td>\n",
              "      <td>3.39</td>\n",
              "      <td>0.66</td>\n",
              "      <td>11.0</td>\n",
              "      <td>6</td>\n",
              "    </tr>\n",
              "  </tbody>\n",
              "</table>\n",
              "<p>1599 rows × 12 columns</p>\n",
              "</div>"
            ],
            "text/plain": [
              "      fixed acidity  volatile acidity  citric acid  ...  sulphates  alcohol  quality\n",
              "0               7.4             0.700         0.00  ...       0.56      9.4        5\n",
              "1               7.8             0.880         0.00  ...       0.68      9.8        5\n",
              "2               7.8             0.760         0.04  ...       0.65      9.8        5\n",
              "3              11.2             0.280         0.56  ...       0.58      9.8        6\n",
              "4               7.4             0.700         0.00  ...       0.56      9.4        5\n",
              "...             ...               ...          ...  ...        ...      ...      ...\n",
              "1594            6.2             0.600         0.08  ...       0.58     10.5        5\n",
              "1595            5.9             0.550         0.10  ...       0.76     11.2        6\n",
              "1596            6.3             0.510         0.13  ...       0.75     11.0        6\n",
              "1597            5.9             0.645         0.12  ...       0.71     10.2        5\n",
              "1598            6.0             0.310         0.47  ...       0.66     11.0        6\n",
              "\n",
              "[1599 rows x 12 columns]"
            ]
          },
          "metadata": {},
          "execution_count": 91
        }
      ]
    },
    {
      "cell_type": "code",
      "metadata": {
        "colab": {
          "base_uri": "https://localhost:8080/"
        },
        "id": "VKsHV4DTz1-3",
        "outputId": "ff4a0a60-490f-4126-9e3a-807701cef8af"
      },
      "source": [
        "df.values"
      ],
      "execution_count": 92,
      "outputs": [
        {
          "output_type": "execute_result",
          "data": {
            "text/plain": [
              "array([[ 7.4  ,  0.7  ,  0.   , ...,  0.56 ,  9.4  ,  5.   ],\n",
              "       [ 7.8  ,  0.88 ,  0.   , ...,  0.68 ,  9.8  ,  5.   ],\n",
              "       [ 7.8  ,  0.76 ,  0.04 , ...,  0.65 ,  9.8  ,  5.   ],\n",
              "       ...,\n",
              "       [ 6.3  ,  0.51 ,  0.13 , ...,  0.75 , 11.   ,  6.   ],\n",
              "       [ 5.9  ,  0.645,  0.12 , ...,  0.71 , 10.2  ,  5.   ],\n",
              "       [ 6.   ,  0.31 ,  0.47 , ...,  0.66 , 11.   ,  6.   ]])"
            ]
          },
          "metadata": {},
          "execution_count": 92
        }
      ]
    },
    {
      "cell_type": "code",
      "metadata": {
        "id": "VQGl7ylyyboS"
      },
      "source": [
        "# X = Datos de entrada\n",
        "#     [renglones,columnas]\n",
        "# : Rango\n",
        "#y = Datos de salida (etiquetas)\n",
        "X = df.values[:,:-1]\n",
        "y = df.values[:,-1]"
      ],
      "execution_count": 93,
      "outputs": []
    },
    {
      "cell_type": "markdown",
      "metadata": {
        "id": "9dOFGfWqyfN3"
      },
      "source": [
        "# **Separar datos de entrenamiento y prueba**\n",
        "\n"
      ]
    },
    {
      "cell_type": "code",
      "metadata": {
        "colab": {
          "base_uri": "https://localhost:8080/"
        },
        "id": "pBDK5CxQ26kv",
        "outputId": "aa2ce9e2-d67c-48a8-c4d1-889883ae3319"
      },
      "source": [
        "from sklearn.model_selection import train_test_split\n",
        "#                                             datos. \\ como se reparten? \\ los revuelto antes de partir?\n",
        "Xtrain, Xtest, ytrain, ytest = train_test_split(X, y, test_size = 0.20, random_state = 42)\n",
        "\n",
        "print(\"X\",X.shape)\n",
        "print(\"Xtrain\",Xtrain.shape)\n",
        "print(\"Xtest\",Xtest.shape)"
      ],
      "execution_count": 94,
      "outputs": [
        {
          "output_type": "stream",
          "name": "stdout",
          "text": [
            "X (1599, 11)\n",
            "Xtrain (1279, 11)\n",
            "Xtest (320, 11)\n"
          ]
        }
      ]
    },
    {
      "cell_type": "code",
      "metadata": {
        "colab": {
          "base_uri": "https://localhost:8080/"
        },
        "id": "psiu15Ik4zvA",
        "outputId": "b74c904b-bce9-46d8-f19e-4d6288980441"
      },
      "source": [
        "modelVinos = LinearRegression()\n",
        "modelVinos.fit(Xtrain,ytrain)"
      ],
      "execution_count": 95,
      "outputs": [
        {
          "output_type": "execute_result",
          "data": {
            "text/plain": [
              "LinearRegression(copy_X=True, fit_intercept=True, n_jobs=None, normalize=False)"
            ]
          },
          "metadata": {},
          "execution_count": 95
        }
      ]
    },
    {
      "cell_type": "code",
      "metadata": {
        "colab": {
          "base_uri": "https://localhost:8080/"
        },
        "id": "FNMa2wb-5b6q",
        "outputId": "67d8a8bd-ac35-47e7-d6b0-49133a5ce47a"
      },
      "source": [
        "Xtest"
      ],
      "execution_count": 96,
      "outputs": [
        {
          "output_type": "execute_result",
          "data": {
            "text/plain": [
              "array([[ 7.7  ,  0.56 ,  0.08 , ...,  3.24 ,  0.66 ,  9.6  ],\n",
              "       [ 7.8  ,  0.5  ,  0.17 , ...,  3.39 ,  0.48 ,  9.5  ],\n",
              "       [10.7  ,  0.67 ,  0.22 , ...,  3.28 ,  0.98 ,  9.9  ],\n",
              "       ...,\n",
              "       [ 8.3  ,  0.6  ,  0.25 , ...,  3.15 ,  0.53 ,  9.8  ],\n",
              "       [ 8.8  ,  0.27 ,  0.39 , ...,  3.15 ,  0.69 , 11.2  ],\n",
              "       [ 9.1  ,  0.765,  0.04 , ...,  3.29 ,  0.54 ,  9.7  ]])"
            ]
          },
          "metadata": {},
          "execution_count": 96
        }
      ]
    },
    {
      "cell_type": "code",
      "metadata": {
        "colab": {
          "base_uri": "https://localhost:8080/"
        },
        "id": "ngxG11rh5Vsi",
        "outputId": "927dbd7e-d316-4fdf-a63f-2d4a20c35d2d"
      },
      "source": [
        "from sklearn.metrics import mean_absolute_error\n",
        "\n",
        "ypred = modelVinos.predict(Xtest)\n",
        "print(\"MSE\",mean_absolute_error(ypred, ytest))"
      ],
      "execution_count": 97,
      "outputs": [
        {
          "output_type": "stream",
          "name": "stdout",
          "text": [
            "MSE 0.5035304415524365\n"
          ]
        }
      ]
    }
  ]
}